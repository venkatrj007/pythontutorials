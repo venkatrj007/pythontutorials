{
 "cells": [
  {
   "cell_type": "code",
   "execution_count": 1,
   "metadata": {},
   "outputs": [
    {
     "name": "stdout",
     "output_type": "stream",
     "text": [
      "0 1 2 3 4 "
     ]
    }
   ],
   "source": [
    "l=[95,6,\"hello\",9+5j,88]\n",
    "start = 0\n",
    "end=len(l)\n",
    "while start<end:\n",
    "   print(start,end=\" \")\n",
    "   start += 1"
   ]
  },
  {
   "cell_type": "markdown",
   "metadata": {},
   "source": [
    "l=[95,6,\"hello\",9+5j,88]\n",
    "ele=88\n",
    "start =0\n",
    "end=len(l)\n",
    "while start < end:\n",
    "    if l[start] == ele:\n",
    "        print(start)\n",
    "        break;\n",
    "start += 1"
   ]
  },
  {
   "cell_type": "markdown",
   "metadata": {},
   "source": []
  },
  {
   "cell_type": "code",
   "execution_count": 4,
   "metadata": {},
   "outputs": [
    {
     "name": "stdout",
     "output_type": "stream",
     "text": [
      "4\n"
     ]
    }
   ],
   "source": [
    "l=[95,6,\"hello\",9+5j,88]\n",
    "ele=88\n",
    "start =0\n",
    "end=len(l)\n",
    "while start < end:\n",
    "    if l[start] == ele:\n",
    "        print(start)\n",
    "        break;\n",
    "    start += 1"
   ]
  },
  {
   "cell_type": "code",
   "execution_count": null,
   "metadata": {},
   "outputs": [],
   "source": []
  },
  {
   "cell_type": "markdown",
   "metadata": {},
   "source": [
    "start =0\n",
    "end=len(l)\n",
    "while start < end:\n",
    "   if l[start] == ele:\n",
    "   print(start)\n",
    "   break\n",
    "   start += 1"
   ]
  }
 ],
 "metadata": {
  "kernelspec": {
   "display_name": "Python 3",
   "language": "python",
   "name": "python3"
  },
  "language_info": {
   "codemirror_mode": {
    "name": "ipython",
    "version": 3
   },
   "file_extension": ".py",
   "mimetype": "text/x-python",
   "name": "python",
   "nbconvert_exporter": "python",
   "pygments_lexer": "ipython3",
   "version": "3.11.8"
  }
 },
 "nbformat": 4,
 "nbformat_minor": 2
}
